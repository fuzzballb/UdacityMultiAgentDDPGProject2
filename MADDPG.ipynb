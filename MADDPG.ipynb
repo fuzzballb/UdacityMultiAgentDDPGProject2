{
 "cells": [
  {
   "cell_type": "markdown",
   "metadata": {},
   "source": [
    "# Multi Agent Deep Deterministic Policy Gradients (MADDPG)\n",
    "---\n",
    "In this notebook, we train DDPG with OpenAI Gym's Pendulum-v0 environment.\n",
    "\n",
    "### 1. Import the Necessary Packages"
   ]
  },
  {
   "cell_type": "code",
   "execution_count": 2,
   "metadata": {},
   "outputs": [],
   "source": [
    "from unityagents import UnityEnvironment\n",
    "\n",
    "import numpy as np\n",
    "from collections import deque\n",
    "\n",
    "import torch\n",
    "\n",
    "import matplotlib.pyplot as plt\n",
    "%matplotlib inline"
   ]
  },
  {
   "cell_type": "markdown",
   "metadata": {},
   "source": [
    "### 2. Instantiate the Environment and Agent"
   ]
  },
  {
   "cell_type": "code",
   "execution_count": 3,
   "metadata": {},
   "outputs": [
    {
     "name": "stderr",
     "output_type": "stream",
     "text": [
      "INFO:unityagents:\n",
      "'Academy' started successfully!\n",
      "Unity Academy name: Academy\n",
      "        Number of Brains: 1\n",
      "        Number of External Brains : 1\n",
      "        Lesson number : 0\n",
      "        Reset Parameters :\n",
      "\t\t\n",
      "Unity brain name: TennisBrain\n",
      "        Number of Visual Observations (per agent): 0\n",
      "        Vector Observation space type: continuous\n",
      "        Vector Observation space size (per agent): 8\n",
      "        Number of stacked Vector Observation: 3\n",
      "        Vector Action space type: continuous\n",
      "        Vector Action space size (per agent): 2\n",
      "        Vector Action descriptions: , \n"
     ]
    }
   ],
   "source": [
    "# environment configuration\n",
    "env = UnityEnvironment(file_name=\"Tennis_Windows_x86_64/Tennis.exe\")\n",
    "\n",
    "brain_name = env.brain_names[0]\n",
    "brain = env.brains[brain_name]"
   ]
  },
  {
   "cell_type": "markdown",
   "metadata": {},
   "source": [
    "Environments contain brains which are responsible for deciding the actions of their associated agents. Here we check for the first brain available, and set it as the default brain we will be controlling from Python."
   ]
  },
  {
   "cell_type": "code",
   "execution_count": 4,
   "metadata": {},
   "outputs": [
    {
     "name": "stdout",
     "output_type": "stream",
     "text": [
      "Number of agents: 2\n",
      "Number of actions: 2\n",
      "There are 2 agents. Each observes a state with length: 24\n",
      "The state for the first agent looks like:  [ 0.          0.          0.          0.          0.          0.\n",
      "  0.          0.          0.          0.          0.          0.\n",
      "  0.          0.          0.          0.         -6.65278625 -1.5\n",
      " -0.          0.          6.83172083  6.         -0.          0.        ]\n"
     ]
    }
   ],
   "source": [
    "# environment information\n",
    "# reset the environment\n",
    "env_info = env.reset(train_mode=True)[brain_name]\n",
    "# number of agents in the environment\n",
    "n_agents = len(env_info.agents)\n",
    "print('Number of agents:', n_agents)\n",
    "# number of actions\n",
    "action_size = brain.vector_action_space_size\n",
    "print('Number of actions:', action_size)\n",
    "# examine the state space \n",
    "states = env_info.vector_observations\n",
    "state_size = states.shape[1]\n",
    "print('There are {} agents. Each observes a state with length: {}'.format(states.shape[0], state_size))\n",
    "print('The state for the first agent looks like: ', states[0])"
   ]
  },
  {
   "cell_type": "code",
   "execution_count": 8,
   "metadata": {},
   "outputs": [],
   "source": [
    "env.close()"
   ]
  },
  {
   "cell_type": "markdown",
   "metadata": {},
   "source": [
    "### 3. Train the Agent with DDPG"
   ]
  },
  {
   "cell_type": "code",
   "execution_count": null,
   "metadata": {},
   "outputs": [],
   "source": [
    "# env_info = env.reset(train_mode=True)[brain_name] # reset the environment\n",
    "# state = env_info.vector_observations[0]            # get the current state\n",
    "# score = 0                                          # initialize the score\n",
    "# while True:\n",
    "#     action = np.random.randint(action_size)        # select an action\n",
    "#     env_info = env.step(action)[brain_name]        # send the action to the environment\n",
    "#     next_state = env_info.vector_observations[0]   # get the next state\n",
    "#     reward = env_info.rewards[0]                   # get the reward\n",
    "#     done = env_info.local_done[0]                  # see if episode has finished\n",
    "#     score += reward                                # update the score\n",
    "#     state = next_state                             # roll over the state to next time step\n",
    "#     if done:                                       # exit loop if episode finished\n",
    "#         break"
   ]
  },
  {
   "cell_type": "code",
   "execution_count": 5,
   "metadata": {},
   "outputs": [],
   "source": [
    "#import importlib\n",
    "from ddpg_agent import Agent\n",
    "from ddpg_agent import ReplayBuffer\n",
    "from ddpg_agent import Academy\n",
    "from ddpg_agent import OUNoise\n",
    "\n",
    "shared_replay_memory = ReplayBuffer(action_size, 2)\n",
    "# unchecked shared OUNoise\n",
    "noise = OUNoise(action_size, 2)\n",
    "\n",
    "# initialise an agent\n",
    "agent1 = Agent(identity=1, state_size=24, action_size=2, random_seed=2, memory=shared_replay_memory, noise=noise)\n",
    "agent2 = Agent(identity=2, state_size=24, action_size=2, random_seed=2, memory=shared_replay_memory, noise=noise)\n",
    "               \n",
    "# initialise an academy\n",
    "academy = Academy(state_size=24, action_size=2, random_seed=2, memory=shared_replay_memory)\n"
   ]
  },
  {
   "cell_type": "code",
   "execution_count": 6,
   "metadata": {},
   "outputs": [
    {
     "name": "stdout",
     "output_type": "stream",
     "text": [
      "Episode 508\t Score: 1.20\t Average Score: 0.50\tMax Score: 2.60"
     ]
    },
    {
     "data": {
      "image/png": "[encoded data removed]",
      "text/plain": [
       "<Figure size 432x288 with 1 Axes>"
      ]
     },
     "metadata": {
      "needs_background": "light"
     },
     "output_type": "display_data"
    }
   ],
   "source": [
    "#importlib.reload(ddpg_agent)\n",
    "def ddpg(n_episodes=5000, max_t=1000, print_every=100):\n",
    "    scores_deque = deque(maxlen=print_every)\n",
    "    scores = []\n",
    "    \n",
    "    #scores_list = []\n",
    "    for i_episode in range(1, n_episodes+1):\n",
    "        #state = env.reset()\n",
    "        env_info = env.reset(train_mode=True)[brain_name] # reset the environment\n",
    "        states = env_info.vector_observations            # get the current state\n",
    "        score = np.zeros(n_agents)                          # initialize the score (for each agent)\n",
    "        \n",
    "        agent1.reset()\n",
    "        agent2.reset()\n",
    "        \n",
    "        while True:\n",
    "            actions1 = agent1.act(states[0], True)\n",
    "            actions2 = agent2.act(states[1], True)\n",
    "            actions = np.concatenate( (actions1, actions2) )\n",
    "            \n",
    "\n",
    "            env_info = env.step(actions)[brain_name]        # send the action to the environment\n",
    "            next_states = env_info.vector_observations      # get the next state\n",
    "            rewards = env_info.rewards                      # get the reward        \n",
    "            dones = env_info.local_done                     # see if episode has finished \n",
    "                        \n",
    "            # agent 1\n",
    "            next_states1 = env_info.vector_observations[0]   # get the next state\n",
    "            rewards1 = env_info.rewards[0]                   # get the reward\n",
    "            dones1 = env_info.local_done[0]                  # see if episode has finished\n",
    "            agent1.step(states[0], actions1, rewards1, next_states1, dones1)\n",
    "            \n",
    "            # agent 2\n",
    "            next_states2 = env_info.vector_observations[1]   # get the next state\n",
    "            rewards2 = env_info.rewards[1]                   # get the reward\n",
    "            dones2 = env_info.local_done[1]                  # see if episode has finished\n",
    "            agent2.step(states[1], actions2, rewards2, next_states2, dones2)\n",
    "            \n",
    "            academy.step(agent1, shared_replay_memory)\n",
    "            academy.step(agent2, shared_replay_memory)\n",
    "            \n",
    "            states = next_states\n",
    "            \n",
    "            score += env_info.rewards #rewards\n",
    "            if np.any(env_info.local_done):  #dones\n",
    "                break\n",
    "                \n",
    "        scores.append(np.max(score))\n",
    "        scores_deque.append(np.max(score))\n",
    "        \n",
    "        print('\\rEpisode {}\\t Score: {:.2f}\\t Average Score: {:.2f}\\tMax Score: {:.2f}'.format(i_episode, np.max(score), np.mean(scores_deque), np.max(scores)), end=\"\")\n",
    "\n",
    "        if np.mean(scores_deque) >= 0.5:\n",
    "            torch.save(agent1.actor_local.state_dict(), 'checkpoint_agent_1.pth')\n",
    "            torch.save(agent2.actor_local.state_dict(), 'checkpoint_agent_2.pth')\n",
    "            torch.save(academy.critic_local.state_dict(), 'checkpoint_academy.pth')\n",
    "            break\n",
    "            \n",
    "    return scores\n",
    "\n",
    "scores = ddpg()\n",
    "\n",
    "fig = plt.figure()\n",
    "ax = fig.add_subplot(111)\n",
    "plt.plot(np.arange(1, len(scores)+1), scores)\n",
    "plt.ylabel('Score')\n",
    "plt.xlabel('Episode #')\n",
    "plt.show()"
   ]
  },
  {
   "cell_type": "markdown",
   "metadata": {},
   "source": [
    "### 4. Watch a Smart Agent!"
   ]
  },
  {
   "cell_type": "code",
   "execution_count": 5,
   "metadata": {},
   "outputs": [
    {
     "name": "stdout",
     "output_type": "stream",
     "text": [
      "Episode: \t0 \tScore: \t2.60\n",
      "Episode: \t1 \tScore: \t2.70\n",
      "Episode: \t2 \tScore: \t2.60\n"
     ]
    }
   ],
   "source": [
    "# test the trained agents\n",
    "for episode in range(3):\n",
    "    env_info = env.reset(train_mode=False)[brain_name]           # reset the environment\n",
    "    states = env_info.vector_observations                        # get initial states\n",
    "    score = np.zeros(n_agents)\n",
    "    \n",
    "    while True:\n",
    "        actions1 = agent1.act(states[0],False)\n",
    "        actions2 = agent2.act(states[1],False)\n",
    "        actions = np.concatenate((actions1, actions2))\n",
    "        \n",
    "        env_info = env.step( actions )[brain_name]               # send the action to the environment                            \n",
    "        next_states = env_info.vector_observations               # get the next state        \n",
    "        rewards = env_info.rewards                               # get the reward        \n",
    "        dones = env_info.local_done                              # see if episode has finished        \n",
    "        \n",
    "        score += rewards\n",
    "\n",
    "        states = next_states\n",
    "\n",
    "        if np.any(dones):                              \n",
    "            break\n",
    "\n",
    "    print('Episode: \\t{} \\tScore: \\t{:.2f}'.format(episode, np.max(score)))  "
   ]
  },
  {
   "cell_type": "markdown",
   "metadata": {},
   "source": [
    "### 6. Explore\n",
    "\n",
    "In this exercise, we have provided a sample DDPG agent and demonstrated how to use it to solve an OpenAI Gym environment.  To continue your learning, you are encouraged to complete any (or all!) of the following tasks:\n",
    "- Amend the various hyperparameters and network architecture to see if you can get your agent to solve the environment faster than this benchmark implementation.  Once you build intuition for the hyperparameters that work well with this environment, try solving a different OpenAI Gym task!\n",
    "- Write your own DDPG implementation.  Use this code as reference only when needed -- try as much as you can to write your own algorithm from scratch.\n",
    "- You may also like to implement prioritized experience replay, to see if it speeds learning.  \n",
    "- The current implementation adds Ornsetein-Uhlenbeck noise to the action space.  However, it has [been shown](https://blog.openai.com/better-exploration-with-parameter-noise/) that adding noise to the parameters of the neural network policy can improve performance.  Make this change to the code, to verify it for yourself!\n",
    "- Write a blog post explaining the intuition behind the DDPG algorithm and demonstrating how to use it to solve an RL environment of your choosing.  "
   ]
  }
 ],
 "metadata": {
  "kernelspec": {
   "display_name": "Python 3",
   "language": "python",
   "name": "python3"
  },
  "language_info": {
   "codemirror_mode": {
    "name": "ipython",
    "version": 3
   },
   "file_extension": ".py",
   "mimetype": "text/x-python",
   "name": "python",
   "nbconvert_exporter": "python",
   "pygments_lexer": "ipython3",
   "version": "3.6.9"
  }
 },
 "nbformat": 4,
 "nbformat_minor": 2
}
